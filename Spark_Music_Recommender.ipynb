{
  "nbformat": 4,
  "nbformat_minor": 0,
  "metadata": {
    "colab": {
      "name": "Group_H_Spark_Music_Recommender.ipynb",
      "provenance": [],
      "collapsed_sections": []
    },
    "kernelspec": {
      "name": "python3",
      "display_name": "Python 3"
    },
    "accelerator": "GPU"
  },
  "cells": [
    {
      "cell_type": "markdown",
      "metadata": {
        "id": "3T3_FYC4ZBBE",
        "colab_type": "text"
      },
      "source": [
        "# Music Recommender\n",
        "\n",
        "\n"
      ]
    },
    {
      "cell_type": "markdown",
      "metadata": {
        "id": "a4Jy9JGsPlcs",
        "colab_type": "text"
      },
      "source": [
        "Purpose to create recommendation engine for Record recommendations"
      ]
    },
    {
      "cell_type": "markdown",
      "metadata": {
        "colab_type": "text",
        "id": "kvD4HBMi0ohY"
      },
      "source": [
        "## Spark Bootstraping for Google Colab\n",
        "\n",
        "Run this before start working with the notebooks from the spark course. \n",
        "When you will start a new (and fresh) notebook at Colab. Google Cloud will create a new Docker container just for your use. \n",
        "\n",
        "Executing this notebook will install into the container the software. The container will be reused by the user until it will destroy by inactivity.\n"
      ]
    },
    {
      "cell_type": "code",
      "metadata": {
        "colab_type": "code",
        "id": "fUhBhrGmyAvs",
        "colab": {}
      },
      "source": [
        "!apt-get install openjdk-8-jdk-headless -qq > /dev/null\n",
        "!wget -q http://apache.osuosl.org/spark/spark-2.4.0/spark-2.4.0-bin-hadoop2.7.tgz\n",
        "!tar xf spark-2.4.0-bin-hadoop2.7.tgz\n",
        "!pip install -q findspark"
      ],
      "execution_count": 0,
      "outputs": []
    },
    {
      "cell_type": "markdown",
      "metadata": {
        "colab_type": "text",
        "id": "b4Kjvk_h1AHl"
      },
      "source": [
        "## Set Environment Variables\n",
        "Set the locations where Spark and Java are installed."
      ]
    },
    {
      "cell_type": "code",
      "metadata": {
        "colab_type": "code",
        "id": "8Xnb_ePUyQIL",
        "colab": {}
      },
      "source": [
        "import os\n",
        "os.environ[\"JAVA_HOME\"] = \"/usr/lib/jvm/java-8-openjdk-amd64\"\n",
        "os.environ[\"SPARK_HOME\"] = \"/content/spark-2.4.0-bin-hadoop2.7\"\n",
        "os.environ[\"PYSPARK_SUBMIT_ARGS\"] = \"--master local[2] pyspark-shell\""
      ],
      "execution_count": 0,
      "outputs": []
    },
    {
      "cell_type": "markdown",
      "metadata": {
        "id": "Y_2Cd36sWuvN",
        "colab_type": "text"
      },
      "source": [
        "## Cloning our Github repo"
      ]
    },
    {
      "cell_type": "code",
      "metadata": {
        "colab_type": "code",
        "id": "PZkw_gPEQvId",
        "outputId": "0ca36295-7430-416f-f934-5088aedf9a87",
        "colab": {
          "base_uri": "https://localhost:8080/",
          "height": 153
        }
      },
      "source": [
        "!rm -rf /content/SparkCourse2019/\n",
        "!git clone https://github.com/bazarum/SparkCourse2019.git"
      ],
      "execution_count": 0,
      "outputs": [
        {
          "output_type": "stream",
          "text": [
            "Cloning into 'SparkCourse2019'...\n",
            "remote: Enumerating objects: 227, done.\u001b[K\n",
            "remote: Counting objects: 100% (227/227), done.\u001b[K\n",
            "remote: Compressing objects: 100% (59/59), done.\u001b[K\n",
            "remote: Total 2298 (delta 175), reused 214 (delta 162), pack-reused 2071\u001b[K\n",
            "Receiving objects: 100% (2298/2298), 324.21 MiB | 14.93 MiB/s, done.\n",
            "Resolving deltas: 100% (478/478), done.\n",
            "Checking out files: 100% (1818/1818), done.\n"
          ],
          "name": "stdout"
        }
      ]
    },
    {
      "cell_type": "markdown",
      "metadata": {
        "colab_type": "text",
        "id": "NwU28K5f1H3P"
      },
      "source": [
        "## Start a SparkSession\n",
        "This will start a local Spark session:: and getting the data"
      ]
    },
    {
      "cell_type": "code",
      "metadata": {
        "id": "W1JyW6KZGBZQ",
        "colab_type": "code",
        "outputId": "dc21adce-3b36-4319-af4d-2dfc589f03e0",
        "colab": {
          "base_uri": "https://localhost:8080/",
          "height": 289
        }
      },
      "source": [
        "!wget http://www.iro.umontreal.ca/~lisa/datasets/profiledata_06-May-2005.tar.gz\n",
        "!tar xvf profiledata_06-May-2005.tar.gz\n",
        "!mv profiledata_06-May-2005/* .\n",
        "!rmdir profiledata_06-May-2005\n"
      ],
      "execution_count": 0,
      "outputs": [
        {
          "output_type": "stream",
          "text": [
            "--2019-03-07 17:19:09--  http://www.iro.umontreal.ca/~lisa/datasets/profiledata_06-May-2005.tar.gz\n",
            "Resolving www.iro.umontreal.ca (www.iro.umontreal.ca)... 132.204.26.36\n",
            "Connecting to www.iro.umontreal.ca (www.iro.umontreal.ca)|132.204.26.36|:80... connected.\n",
            "HTTP request sent, awaiting response... 200 OK\n",
            "Length: 135880312 (130M) [application/x-gzip]\n",
            "Saving to: ‘profiledata_06-May-2005.tar.gz.2’\n",
            "\n",
            "profiledata_06-May- 100%[===================>] 129.58M  15.7MB/s    in 9.5s    \n",
            "\n",
            "2019-03-07 17:19:20 (13.6 MB/s) - ‘profiledata_06-May-2005.tar.gz.2’ saved [135880312/135880312]\n",
            "\n",
            "profiledata_06-May-2005/\n",
            "profiledata_06-May-2005/artist_data.txt\n",
            "profiledata_06-May-2005/README.txt\n",
            "profiledata_06-May-2005/user_artist_data.txt\n",
            "profiledata_06-May-2005/artist_alias.txt\n"
          ],
          "name": "stdout"
        }
      ]
    },
    {
      "cell_type": "markdown",
      "metadata": {
        "id": "DDZYXRJjZzwB",
        "colab_type": "text"
      },
      "source": [
        "## Initialize the spark session"
      ]
    },
    {
      "cell_type": "code",
      "metadata": {
        "id": "9vik-tgE5-9A",
        "colab_type": "code",
        "outputId": "63cd065b-fa56-4807-c43b-3e0fd0a97041",
        "colab": {
          "base_uri": "https://localhost:8080/",
          "height": 34
        }
      },
      "source": [
        "import findspark\n",
        "print(findspark.init())\n",
        "\n",
        "from pyspark.sql import SparkSession\n",
        "\n",
        "spark = SparkSession.builder.master(\"local[*]\").getOrCreate()\n",
        "sc = spark.sparkContext"
      ],
      "execution_count": 0,
      "outputs": [
        {
          "output_type": "stream",
          "text": [
            "None\n"
          ],
          "name": "stdout"
        }
      ]
    },
    {
      "cell_type": "markdown",
      "metadata": {
        "id": "-TPWomCfaPpM",
        "colab_type": "text"
      },
      "source": [
        "## Some functions to setup Spark Structures for Dataframe"
      ]
    },
    {
      "cell_type": "code",
      "metadata": {
        "id": "ffe4WdaGEuow",
        "colab_type": "code",
        "colab": {}
      },
      "source": [
        "from pyspark.sql.types import *\n",
        "\n",
        "def get_structtype(txt_):\n",
        "  \n",
        "  details = txt_.split(':')\n",
        "  struct_ = StructField(details[0], StringType(), True)\n",
        "  \n",
        "  if details[1]==\"IntegerType\":\n",
        "    struct_ = StructField(details[0], IntegerType(), True)\n",
        "\n",
        "  if details[1]==\"DoubleType\":\n",
        "    struct_ = StructField(details[0], DoubleType(), True)\n",
        "    \n",
        "  return(struct_)\n",
        "    \n",
        "def get_structure(txt_):\n",
        "  \n",
        "  fieldList = txt_.split('|')\n",
        "  fields_ = []\n",
        "  for field_name in fieldList:\n",
        "    fields_.append(get_structtype(field_name))\n",
        "  \n",
        "  return(StructType(fields_))"
      ],
      "execution_count": 0,
      "outputs": []
    },
    {
      "cell_type": "markdown",
      "metadata": {
        "id": "fP1OZx46aZDq",
        "colab_type": "text"
      },
      "source": [
        "## Import the data.\n",
        "\n",
        "user_artist_data was \" \" separated file, and artist_data.txt also looked to be, but in the end when trying to merge files, there were problems with joining and filtering.  When changed to \"\\t\" separated file, all worked ok."
      ]
    },
    {
      "cell_type": "code",
      "metadata": {
        "id": "PWjUPTQz2-rl",
        "colab_type": "code",
        "outputId": "995b4d6a-bf21-4826-b4f4-8305b9054ce8",
        "colab": {
          "base_uri": "https://localhost:8080/",
          "height": 204
        }
      },
      "source": [
        "artist_data = 'artist_data.txt'\n",
        "user_artist_data = 'user_artist_data.txt'\n",
        "\n",
        "user_schema = get_structure(\"UserId:IntegerType|ArtistId:IntegerType|Counter:IntegerType\")\n",
        "artist_schema = get_structure(\"ArtistID:IntegerType|Title:StringType\")\n",
        "\n",
        "# Convert numeric values where necessary.\n",
        "artists=spark.read.schema(artist_schema).option(\"header\", \"false\").csv(artist_data, sep=\"\\t\")\n",
        "users=spark.read.schema(user_schema).option(\"header\", \"false\").csv(user_artist_data, sep=\" \")\n",
        "user_dd = spark.read.csv(user_artist_data, sep=\"\\t\")\n",
        "\n",
        "artists = artists.withColumn(\"ArtistId\", artists[\"ArtistId\"].cast(\"double\"))\n",
        "users = users.withColumn(\"UserId\", users[\"UserId\"].cast(\"double\"))\n",
        "users = users.withColumn(\"ArtistId\", users[\"ArtistId\"].cast(\"double\"))\n",
        "users = users.withColumn(\"Counter\", users[\"Counter\"].cast(\"double\")) # was integer but I think needs to be float for ALS\n",
        "\n",
        "artists.show(5)\n",
        "\n"
      ],
      "execution_count": 0,
      "outputs": [
        {
          "output_type": "stream",
          "text": [
            "+-----------+--------------------+\n",
            "|   ArtistId|               Title|\n",
            "+-----------+--------------------+\n",
            "|  1134999.0|        06Crazy Life|\n",
            "|  6821360.0|        Pang Nakarin|\n",
            "|1.0113088E7|Terfel, Bartoli- ...|\n",
            "|1.0151459E7| The Flaming Sidebur|\n",
            "|  6826647.0|   Bodenstandig 3000|\n",
            "+-----------+--------------------+\n",
            "only showing top 5 rows\n",
            "\n"
          ],
          "name": "stdout"
        }
      ]
    },
    {
      "cell_type": "markdown",
      "metadata": {
        "id": "5kwzVHkZa6vy",
        "colab_type": "text"
      },
      "source": [
        "## This was to give an idea of the Artists Listened to by UserId 1000002"
      ]
    },
    {
      "cell_type": "code",
      "metadata": {
        "id": "7S8qvHkQw1bF",
        "colab_type": "code",
        "outputId": "6c3bd521-e7ff-4e06-a945-61d5d4b9ee3d",
        "colab": {
          "base_uri": "https://localhost:8080/",
          "height": 459
        }
      },
      "source": [
        "\n",
        "users.filter(users[\"UserId\"]==1000002).show()"
      ],
      "execution_count": 0,
      "outputs": [
        {
          "output_type": "stream",
          "text": [
            "+---------+---------+-------+\n",
            "|   UserId| ArtistId|Counter|\n",
            "+---------+---------+-------+\n",
            "|1000002.0|      1.0|   55.0|\n",
            "|1000002.0|1000006.0|   33.0|\n",
            "|1000002.0|1000007.0|    8.0|\n",
            "|1000002.0|1000009.0|  144.0|\n",
            "|1000002.0|1000010.0|  314.0|\n",
            "|1000002.0|1000013.0|    8.0|\n",
            "|1000002.0|1000014.0|   42.0|\n",
            "|1000002.0|1000017.0|   69.0|\n",
            "|1000002.0|1000024.0|  329.0|\n",
            "|1000002.0|1000025.0|    1.0|\n",
            "|1000002.0|1000028.0|   17.0|\n",
            "|1000002.0|1000031.0|   47.0|\n",
            "|1000002.0|1000033.0|   15.0|\n",
            "|1000002.0|1000042.0|    1.0|\n",
            "|1000002.0|1000045.0|    1.0|\n",
            "|1000002.0|1000054.0|    2.0|\n",
            "|1000002.0|1000055.0|   25.0|\n",
            "|1000002.0|1000056.0|    4.0|\n",
            "|1000002.0|1000059.0|    2.0|\n",
            "|1000002.0|1000062.0|   71.0|\n",
            "+---------+---------+-------+\n",
            "only showing top 20 rows\n",
            "\n"
          ],
          "name": "stdout"
        }
      ]
    },
    {
      "cell_type": "markdown",
      "metadata": {
        "id": "uaAWZwUdbIhk",
        "colab_type": "text"
      },
      "source": [
        "## This was a sample of the Artists data\n",
        "\n",
        "This was to ensure that the merge and filter would work later."
      ]
    },
    {
      "cell_type": "code",
      "metadata": {
        "id": "xWCoDflTCWWY",
        "colab_type": "code",
        "outputId": "09a79615-d8bb-49c1-9866-2d6cf4d068c0",
        "colab": {
          "base_uri": "https://localhost:8080/",
          "height": 119
        }
      },
      "source": [
        "artists.filter(artists[\"ArtistId\"]==1).show()"
      ],
      "execution_count": 0,
      "outputs": [
        {
          "output_type": "stream",
          "text": [
            "+--------+----------+\n",
            "|ArtistId|     Title|\n",
            "+--------+----------+\n",
            "|     1.0|Portishead|\n",
            "+--------+----------+\n",
            "\n"
          ],
          "name": "stdout"
        }
      ]
    },
    {
      "cell_type": "code",
      "metadata": {
        "id": "l2DaRsJzvVb2",
        "colab_type": "code",
        "outputId": "a463e96d-c504-41b9-e500-1a11f96dfdc4",
        "colab": {
          "base_uri": "https://localhost:8080/",
          "height": 204
        }
      },
      "source": [
        "\n",
        "artists.show(5)"
      ],
      "execution_count": 0,
      "outputs": [
        {
          "output_type": "stream",
          "text": [
            "+-----------+--------------------+\n",
            "|   ArtistId|               Title|\n",
            "+-----------+--------------------+\n",
            "|  1134999.0|        06Crazy Life|\n",
            "|  6821360.0|        Pang Nakarin|\n",
            "|1.0113088E7|Terfel, Bartoli- ...|\n",
            "|1.0151459E7| The Flaming Sidebur|\n",
            "|  6826647.0|   Bodenstandig 3000|\n",
            "+-----------+--------------------+\n",
            "only showing top 5 rows\n",
            "\n"
          ],
          "name": "stdout"
        }
      ]
    },
    {
      "cell_type": "markdown",
      "metadata": {
        "id": "R10SIbBcbZSz",
        "colab_type": "text"
      },
      "source": [
        "## This was to identify if any records did not contain ArtistIds"
      ]
    },
    {
      "cell_type": "code",
      "metadata": {
        "id": "HtnviSAfxRXa",
        "colab_type": "code",
        "outputId": "3cff1af6-e5a7-4b7f-c233-af9186d4f2a9",
        "colab": {
          "base_uri": "https://localhost:8080/",
          "height": 34
        }
      },
      "source": [
        "no_artists = users.filter(users.ArtistId.isNull())\n",
        "# No empty artists in the dataset.\n",
        "no_artists.count()"
      ],
      "execution_count": 0,
      "outputs": [
        {
          "output_type": "execute_result",
          "data": {
            "text/plain": [
              "0"
            ]
          },
          "metadata": {
            "tags": []
          },
          "execution_count": 11
        }
      ]
    },
    {
      "cell_type": "markdown",
      "metadata": {
        "id": "WG9v1Rr_bmaC",
        "colab_type": "text"
      },
      "source": [
        "## The subsequent section created some temporary views for the Users and Artists.  \n",
        "\n",
        "I did not use them, but will keep the code here for the moment."
      ]
    },
    {
      "cell_type": "code",
      "metadata": {
        "id": "5og1FXCyyBT0",
        "colab_type": "code",
        "colab": {}
      },
      "source": [
        "import os\n",
        "from pyspark.sql.types import *\n",
        "from pyspark.sql import functions as F\n"
      ],
      "execution_count": 0,
      "outputs": []
    },
    {
      "cell_type": "code",
      "metadata": {
        "id": "DNEmHROk6f2n",
        "colab_type": "code",
        "outputId": "73f40b78-d874-496a-ebc5-1678f833b7ee",
        "colab": {
          "base_uri": "https://localhost:8080/",
          "height": 204
        }
      },
      "source": [
        "users.createOrReplaceTempView(\"users\")\n",
        "df1 = spark.sql(\"select distinct UserId from users\")\n",
        "df1.show(5)"
      ],
      "execution_count": 0,
      "outputs": [
        {
          "output_type": "stream",
          "text": [
            "+---------+\n",
            "|   UserId|\n",
            "+---------+\n",
            "|1000075.0|\n",
            "|1000148.0|\n",
            "|1000452.0|\n",
            "|1000691.0|\n",
            "|1000714.0|\n",
            "+---------+\n",
            "only showing top 5 rows\n",
            "\n"
          ],
          "name": "stdout"
        }
      ]
    },
    {
      "cell_type": "code",
      "metadata": {
        "id": "2t9scwTG-fIm",
        "colab_type": "code",
        "outputId": "2d276cb1-5b05-4461-acef-ebeeaf256503",
        "colab": {
          "base_uri": "https://localhost:8080/",
          "height": 204
        }
      },
      "source": [
        "df1.count()\n",
        "\n",
        "artists.createOrReplaceTempView(\"artists\")\n",
        "df2 = spark.sql(\"select * from artists\")\n",
        "df2.show(5)"
      ],
      "execution_count": 0,
      "outputs": [
        {
          "output_type": "stream",
          "text": [
            "+-----------+--------------------+\n",
            "|   ArtistId|               Title|\n",
            "+-----------+--------------------+\n",
            "|  1134999.0|        06Crazy Life|\n",
            "|  6821360.0|        Pang Nakarin|\n",
            "|1.0113088E7|Terfel, Bartoli- ...|\n",
            "|1.0151459E7| The Flaming Sidebur|\n",
            "|  6826647.0|   Bodenstandig 3000|\n",
            "+-----------+--------------------+\n",
            "only showing top 5 rows\n",
            "\n"
          ],
          "name": "stdout"
        }
      ]
    },
    {
      "cell_type": "code",
      "metadata": {
        "id": "DRoUGja9_nns",
        "colab_type": "code",
        "outputId": "1e069c4e-26f5-451f-e1c7-6e2710c2c99b",
        "colab": {
          "base_uri": "https://localhost:8080/",
          "height": 34
        }
      },
      "source": [
        "df2.count()"
      ],
      "execution_count": 0,
      "outputs": [
        {
          "output_type": "execute_result",
          "data": {
            "text/plain": [
              "1848671"
            ]
          },
          "metadata": {
            "tags": []
          },
          "execution_count": 16
        }
      ]
    },
    {
      "cell_type": "code",
      "metadata": {
        "id": "CqvmtEfuLjoQ",
        "colab_type": "code",
        "outputId": "58668a65-deca-4df1-99ec-4dd503631f7d",
        "colab": {
          "base_uri": "https://localhost:8080/",
          "height": 34
        }
      },
      "source": [
        "df1.count()"
      ],
      "execution_count": 0,
      "outputs": [
        {
          "output_type": "execute_result",
          "data": {
            "text/plain": [
              "148111"
            ]
          },
          "metadata": {
            "tags": []
          },
          "execution_count": 17
        }
      ]
    },
    {
      "cell_type": "markdown",
      "metadata": {
        "id": "9HiSk00Kb1XM",
        "colab_type": "text"
      },
      "source": [
        "## Splitting the data for Train / Test\n",
        "\n",
        "The data was split into Train / Validation and test."
      ]
    },
    {
      "cell_type": "code",
      "metadata": {
        "id": "mkKGLndAb25G",
        "colab_type": "code",
        "colab": {}
      },
      "source": [
        "# Smaller dataset so we will use 0.7 / 0.15 / 0.15 May use the _over 2 if too much processing time.\n",
        "# users_over_2 = users.filter(users.Counter >= 2)"
      ],
      "execution_count": 0,
      "outputs": []
    },
    {
      "cell_type": "code",
      "metadata": {
        "id": "87up5ZK1EI2N",
        "colab_type": "code",
        "colab": {}
      },
      "source": [
        "# Smaller dataset so we will use 0.7 / 0.15 / 0.15 May use the _over 2 if too much processing time.\n",
        "(training_df, validation_df, test_df) = users.randomSplit([0.7, 0.15, 0.15])\n",
        "\n",
        "training_df = training_df.cache()\n",
        "validation_Df = validation_df.cache()\n",
        "test_df = test_df.cache()"
      ],
      "execution_count": 0,
      "outputs": []
    },
    {
      "cell_type": "markdown",
      "metadata": {
        "id": "bHEBkamncQIZ",
        "colab_type": "text"
      },
      "source": [
        "## Modelling for Recomendation Engine"
      ]
    },
    {
      "cell_type": "code",
      "metadata": {
        "id": "YLEVWB8_AwyX",
        "colab_type": "code",
        "outputId": "239491bf-300f-4dc6-98f0-b7d5a51248bc",
        "colab": {
          "base_uri": "https://localhost:8080/",
          "height": 68
        }
      },
      "source": [
        "from pyspark.ml.recommendation import ALS\n",
        "from pyspark.ml.evaluation import RegressionEvaluator\n",
        "\n",
        "\n",
        "# Let's initialize our ALS learner\n",
        "als = ALS()\n",
        "\n",
        "# Now set the parameters for the method\n",
        "als.setMaxIter(5)\\\n",
        "   .setSeed(42)\\\n",
        "   .setItemCol(\"ArtistId\")\\\n",
        "   .setRatingCol(\"Counter\")\\\n",
        "   .setUserCol(\"UserId\")\n",
        "\n",
        "# Now let's compute an evaluation metric for our test dataset\n",
        "# We Create an RMSE evaluator using the label and predicted columns\n",
        "reg_eval = RegressionEvaluator(predictionCol=\"ArtistId\", labelCol=\"Counter\", metricName=\"rmse\")\n",
        "\n",
        "# We have run this before with these results, so to save future time we are changing the ranks and regParams\n",
        "# The best model was trained with regularization parameter 0.15\n",
        "# The best model was trained with rank 4\n",
        "# For rank 4, regularization parameter 0.15 the RMSE is 2408928.61238154\n",
        "\n",
        "tolerance = 0.03\n",
        "ranks = [4]\n",
        "regParams = [0.15]\n",
        "\n",
        "# Original ranks and params tested.\n",
        "# ranks = [4, 8, 12, 16]\n",
        "# regParams = [0.15, 0.2, 0.25]\n",
        "\n",
        "errors = [[0]*len(ranks)]*len(regParams)\n",
        "models = [[0]*len(ranks)]*len(regParams)\n",
        "\n",
        "err = 0\n",
        "min_error = float('inf')\n",
        "best_rank = -1\n",
        "i = 0\n",
        "for regParam in regParams:\n",
        "  j = 0\n",
        "  for rank in ranks:\n",
        "    # Set the rank here:\n",
        "    als.setParams(rank = rank, regParam = regParam)\n",
        "    # Create the model with these parameters.\n",
        "    model = als.fit(training_df)\n",
        "    # Run the model to create a prediction. Predict against the validation_df.\n",
        "    predict_df = model.transform(validation_df)\n",
        "\n",
        "    # Remove NaN values from prediction (due to SPARK-14489) # Has been resolved but not sure which version, so keeping in anyway.\n",
        "    predicted_plays_df = predict_df.filter(predict_df.prediction != float('nan'))\n",
        "    predicted_plays_df = predicted_plays_df.withColumn(\"prediction\", F.abs(F.round(predicted_plays_df[\"prediction\"],0)))\n",
        "    \n",
        "    # Run the previously created RMSE evaluator, reg_eval, on the predicted_plays_df DataFrame\n",
        "    error = reg_eval.evaluate(predicted_plays_df)\n",
        "    errors[i][j] = error\n",
        "    models[i][j] = model\n",
        "    print( 'For rank %s, regularization parameter %s the RMSE is %s' % (rank, regParam, error))\n",
        "    if error < min_error:\n",
        "      min_error = error\n",
        "      best_params = [i,j]\n",
        "    j += 1\n",
        "  i += 1\n",
        "\n",
        "als.setRegParam(regParams[best_params[0]])\n",
        "als.setRank(ranks[best_params[1]])\n",
        "print('The best model was trained with regularization parameter %s' % (regParams[best_params[0]]))\n",
        "print('The best model was trained with rank %s' % (ranks[best_params[1]]))\n",
        "my_model = models[best_params[0]][best_params[1]]"
      ],
      "execution_count": 0,
      "outputs": [
        {
          "output_type": "stream",
          "text": [
            "For rank 4, regularization parameter 0.15 the RMSE is 2412978.306293676\n",
            "The best model was trained with regularization parameter 0.15\n",
            "The best model was trained with rank 4\n"
          ],
          "name": "stdout"
        }
      ]
    },
    {
      "cell_type": "markdown",
      "metadata": {
        "id": "AwIZxorHdVUC",
        "colab_type": "text"
      },
      "source": [
        "## The model has been trained with regularization parameter of 0.15 and rank 4.\n",
        "\n",
        "Using the my_model set with the chosen parameters, going forward to test with the Test dataset, and running predictions, and checking listtened / unlistened songs."
      ]
    },
    {
      "cell_type": "code",
      "metadata": {
        "id": "piykNZb_FF9D",
        "colab_type": "code",
        "outputId": "2eeff42e-84e3-4e92-f12e-600c0937dc29",
        "colab": {
          "base_uri": "https://localhost:8080/",
          "height": 34
        }
      },
      "source": [
        "# In ML Pipelines, this next step has a bug that produces unwanted NaN values. We\n",
        "# have to filter them out. See https://issues.apache.org/jira/browse/SPARK-14489\n",
        "# Like I said earlier, I think the bug has been removed, but filtering NaN is not an issue.\n",
        "\n",
        "test_df = test_df.withColumn(\"Counter\", test_df[\"Counter\"].cast(DoubleType()))\n",
        "predict_df = my_model.transform(test_df)\n",
        "\n",
        "# Remove NaN values from prediction (due to SPARK-14489)\n",
        "predicted_test_df = predict_df.filter(predict_df.prediction != float('nan'))\n",
        "\n",
        "# Round floats to whole numbers\n",
        "predicted_test_df = predicted_test_df.withColumn(\"prediction\", F.abs(F.round(predicted_test_df[\"prediction\"],0)))\n",
        "# Run the previously created RMSE evaluator, reg_eval, on the predicted_test_df DataFrame\n",
        "test_RMSE = reg_eval.evaluate(predicted_test_df)\n",
        "\n",
        "print('The model had a RMSE on the test set of {0}'.format(test_RMSE))"
      ],
      "execution_count": 0,
      "outputs": [
        {
          "output_type": "stream",
          "text": [
            "The model had a RMSE on the test set of 2409405.592605308\n"
          ],
          "name": "stdout"
        }
      ]
    },
    {
      "cell_type": "markdown",
      "metadata": {
        "id": "qjTUangzdsIk",
        "colab_type": "text"
      },
      "source": [
        "## Looking at some statistics ..."
      ]
    },
    {
      "cell_type": "code",
      "metadata": {
        "id": "st_DUJkuTnNk",
        "colab_type": "code",
        "outputId": "2cbaaaab-8222-4e23-a6cd-797faaeabbec",
        "colab": {
          "base_uri": "https://localhost:8080/",
          "height": 153
        }
      },
      "source": [
        "avg_plays_df = training_df.groupBy().avg('Counter').select(F.round('avg(Counter)'))\n",
        "\n",
        "avg_plays_df.show(3)\n",
        "# Extract the average rating value. (This is row 0, column 0.)\n",
        "training_avg_plays = avg_plays_df.collect()[0][0]\n",
        "\n",
        "print('The average number of plays in the dataset is {0}'.format(training_avg_plays))\n",
        "\n",
        "# Add a column with the average rating\n",
        "test_for_avg_df = test_df.withColumn('prediction', F.lit(training_avg_plays))\n",
        "\n",
        "# Run the previously created RMSE evaluator, reg_eval, on the test_for_avg_df DataFrame\n",
        "test_avg_RMSE = reg_eval.evaluate(test_for_avg_df)\n",
        "\n",
        "print(\"The RMSE on the average set is {0}\".format(test_avg_RMSE))\n"
      ],
      "execution_count": 0,
      "outputs": [
        {
          "output_type": "stream",
          "text": [
            "+----------------------+\n",
            "|round(avg(Counter), 0)|\n",
            "+----------------------+\n",
            "|                  15.0|\n",
            "+----------------------+\n",
            "\n",
            "The average number of plays in the dataset is 15.0\n",
            "The RMSE on the average set is 3063831.526930576\n"
          ],
          "name": "stdout"
        }
      ]
    },
    {
      "cell_type": "code",
      "metadata": {
        "id": "cIb-EAZkOMEY",
        "colab_type": "code",
        "colab": {}
      },
      "source": [
        "# This is a the top of the UserId file, to give some values to test on.\n",
        "# It should not matter as to which users go into the model, as the idea is to \n",
        "# train on what they do not have rather than what they do have, so the fact that \n",
        "# this may be in one or other of the 3 models not an issue.\n",
        "\n",
        "# +-------+--------+-------+\n",
        "# | UserId|ArtistId|Counter|\n",
        "# +-------+--------+-------+\n",
        "# |1000002|       1|   55.0|\n",
        "# |1000002| 1000006|   33.0|\n",
        "# |1000002| 1000007|    8.0|\n",
        "# |1000002| 1000009|  144.0|\n",
        "# |1000002| 1000010|  314.0|\n",
        "+-------+--------+-------+"
      ],
      "execution_count": 0,
      "outputs": []
    },
    {
      "cell_type": "markdown",
      "metadata": {
        "id": "Yrud8wIyeYys",
        "colab_type": "text"
      },
      "source": [
        "## Showing the Listened Artists by the chosen user."
      ]
    },
    {
      "cell_type": "code",
      "metadata": {
        "id": "4cmJKFzKFHom",
        "colab_type": "code",
        "outputId": "afa5754f-b227-4ff3-ae29-437d422e55ad",
        "colab": {
          "base_uri": "https://localhost:8080/",
          "height": 459
        }
      },
      "source": [
        "UserId = 1000002\n",
        "\n",
        "listened_artists = users.filter(users.UserId == UserId) \\\n",
        "                                          .join(artists, 'ArtistId') \\\n",
        "                                          .select('UserId', 'ArtistId', 'Title', 'Counter')\n",
        "\n",
        "listened_artists.show()"
      ],
      "execution_count": 0,
      "outputs": [
        {
          "output_type": "stream",
          "text": [
            "+---------+---------+--------------------+-------+\n",
            "|   UserId| ArtistId|               Title|Counter|\n",
            "+---------+---------+--------------------+-------+\n",
            "|1000002.0|1000716.0|                Seal|    1.0|\n",
            "|1000002.0|1001152.0|             Embrace|    2.0|\n",
            "|1000002.0|1001270.0|    Shanks & Bigfoot|    2.0|\n",
            "|1000002.0|1003495.0|               Maysa|    3.0|\n",
            "|1000002.0|1003518.0|     Eric Marienthal|    2.0|\n",
            "|1000002.0|1022997.0|Rainy Days and Mo...|    1.0|\n",
            "|1000002.0|1068317.0|      Gabriel Ananda|    1.0|\n",
            "|1000002.0|6737629.0|    The Gillmor Gang|    1.0|\n",
            "|1000002.0|    782.0|      Weather Report|   48.0|\n",
            "|1000002.0|1000631.0|             Madness|   27.0|\n",
            "|1000002.0|1000632.0|       Goo Goo Dolls|  119.0|\n",
            "|1000002.0|1002401.0|              Divers|    3.0|\n",
            "|1000002.0|    735.0|         Perez Prado|    1.0|\n",
            "|1000002.0|   5761.0|          Status Quo|    8.0|\n",
            "|1000002.0|1003413.0|         Warren Hill|    4.0|\n",
            "|1000002.0|2089141.0|      Slamin' Gladys|   12.0|\n",
            "|1000002.0|   3009.0|         Kula Shaker|   12.0|\n",
            "|1000002.0|   3085.0|        Ramsey Lewis|    1.0|\n",
            "|1000002.0|1000024.0|           Metallica|  329.0|\n",
            "|1000002.0|1001855.0|         Chuck Berry|    8.0|\n",
            "+---------+---------+--------------------+-------+\n",
            "only showing top 20 rows\n",
            "\n"
          ],
          "name": "stdout"
        }
      ]
    },
    {
      "cell_type": "markdown",
      "metadata": {
        "id": "5EieHWW0eiwh",
        "colab_type": "text"
      },
      "source": [
        "## Getting the full list of artists heard by the chosen user.\n",
        "\n",
        "This was used to filter out the artists not heard before."
      ]
    },
    {
      "cell_type": "code",
      "metadata": {
        "id": "1LaP2SQ6hl_G",
        "colab_type": "code",
        "outputId": "c1219c3f-b8d6-4093-933f-a215aedc8acb",
        "colab": {
          "base_uri": "https://localhost:8080/",
          "height": 71
        }
      },
      "source": [
        "listened_artists_list =  [row.ArtistId for row in listened_artists.collect()]\n",
        "\n",
        "print('Artists user has listened to:')\n",
        "print(listened_artists_list)"
      ],
      "execution_count": 0,
      "outputs": [
        {
          "output_type": "stream",
          "text": [
            "Artists user has listened to:\n",
            "[1000716.0, 1001152.0, 1001270.0, 1003495.0, 1003518.0, 1022997.0, 1068317.0, 6737629.0, 782.0, 1000631.0, 1000632.0, 1002401.0, 735.0, 5761.0, 1003413.0, 2089141.0, 3009.0, 3085.0, 1000024.0, 1001855.0, 1003477.0, 2167.0, 1002457.0, 1003610.0, 1004058.0, 758.0, 1226.0, 1007753.0, 1003263.0, 1069200.0, 1007347.0, 3321.0, 1000056.0, 1004378.0, 1008164.0, 1003650.0, 1003409.0, 1003628.0, 1053817.0, 1448.0, 4267.0, 1000014.0, 1003158.0, 1003404.0, 1003475.0, 1009970.0, 1002287.0, 1004316.0, 1280943.0, 1289.0, 5702.0, 1000107.0, 1000315.0, 1000853.0, 1002577.0, 1015566.0, 1022098.0, 1098856.0, 1284697.0, 4137.0, 1000764.0, 1003379.0, 1023192.0, 1495.0, 1000438.0, 1004039.0, 3328.0, 1042262.0, 1000201.0, 1002586.0, 1008850.0, 1022862.0, 1000317.0, 1000597.0, 1041136.0, 831.0, 1195.0, 1000283.0, 1000515.0, 1001804.0, 1021499.0, 4241.0, 1001727.0, 1003083.0, 1003342.0, 1003417.0, 1003421.0, 1005615.0, 1242169.0, 1000848.0, 1002736.0, 1003511.0, 1004637.0, 1029770.0, 672.0, 2184.0, 1000062.0, 1000325.0, 1000676.0, 1003406.0, 1003557.0, 1003615.0, 1014421.0, 1029443.0, 1001362.0, 1293697.0, 1003402.0, 542.0, 733.0, 5712.0, 1000045.0, 1001410.0, 1002498.0, 1004315.0, 1005365.0, 1064798.0, 1201.0, 4195.0, 1000031.0, 1001836.0, 1003069.0, 1004352.0, 1000139.0, 1002624.0, 478.0, 1835.0, 1858.0, 1001835.0, 1054229.0, 1198.0, 1001240.0, 101.0, 1004369.0, 1014133.0, 238.0, 606.0, 1024.0, 1270.0, 3287.0, 1000625.0, 1001380.0, 1058650.0, 1004130.0, 1023160.0, 1234850.0, 1000762.0, 1001888.0, 1022392.0, 1234321.0, 1280515.0, 1010219.0, 1029592.0, 1043898.0, 1001352.0, 1002517.0, 1187.0, 1001208.0, 1003370.0, 1003634.0, 1003646.0, 1023024.0, 5376.0, 1003700.0, 1022872.0, 1042478.0, 388.0, 4468.0, 1003731.0, 4209.0, 1000017.0, 1000569.0, 2823.0, 1000288.0, 1001426.0, 1003524.0, 1015265.0, 1026704.0, 1061553.0, 721.0, 1199.0, 1003420.0, 1017893.0, 18.0, 395.0, 1001129.0, 1006102.0, 1277211.0, 1000088.0, 4371.0, 1253284.0, 2171.0, 1003396.0, 1003398.0, 237.0, 1444.0, 4154.0, 1000322.0, 393.0, 1099029.0, 893.0, 1967.0, 2717.0, 3677.0, 4156.0, 4775.0, 1000855.0, 1006094.0, 1031515.0, 1080983.0, 1230.0, 1001342.0, 688.0, 740.0, 1000260.0, 1001220.0, 1004216.0, 1004393.0, 1318111.0, 231.0, 1004312.0, 1844.0, 2842.0, 1004245.0, 1007744.0, 1010022.0, 1000210.0, 1003616.0, 1003944.0, 6793356.0, 1.0, 1516.0, 3007.0, 1001333.0, 1003030.0, 1003367.0, 1003411.0, 1004406.0, 4224.0, 1000243.0, 1001265.0, 1007045.0, 1022988.0, 421.0, 1413.0, 1001229.0, 1001910.0, 1003515.0, 1017404.0, 250.0, 1004398.0, 1008016.0, 1003501.0, 1007757.0, 1017403.0, 1023016.0, 1001296.0, 1022618.0, 742.0, 969.0, 1000451.0, 1003647.0, 1058612.0, 121.0, 1570.0, 3941.0, 4538.0, 1001812.0, 1004355.0, 1023151.0, 1196.0, 3902.0, 1003212.0, 1003418.0, 1006392.0, 1064023.0, 709.0, 5372.0, 1000183.0, 1001402.0, 1003386.0, 1003408.0, 1029601.0, 1000265.0, 1003488.0, 3083.0, 1005729.0, 833.0, 1212.0, 1003397.0, 1003657.0, 1010093.0, 1059598.0, 3316.0, 4377.0, 1001178.0, 1017405.0, 3408.0, 4250.0, 1001708.0, 3427.0, 1000773.0, 344.0, 949.0, 1000726.0, 1007603.0, 1004375.0, 1000123.0, 1022914.0, 599.0, 1001646.0, 1004326.0, 1005370.0, 1010076.0, 1011814.0, 1027610.0, 1000456.0, 1002915.0, 1012807.0, 1014033.0, 1000639.0, 1001550.0, 1003410.0, 3727.0, 1004381.0, 1005374.0, 1018740.0, 1023131.0, 793.0, 1197.0, 1016357.0, 1022118.0, 1250104.0, 1000293.0, 3418.0, 4019.0, 1002852.0, 1015982.0, 1017402.0, 1003633.0, 1022258.0, 1000620.0, 1000982.0, 1003612.0, 1001167.0, 1003388.0, 1003622.0, 1004308.0, 1009024.0, 1000660.0, 1006385.0, 1030121.0, 4083.0, 1000874.0, 1001008.0, 1004362.0, 1023183.0, 1029094.0, 1001310.0, 1003497.0, 1141000.0, 1000674.0, 2194.0, 1037241.0, 1000266.0, 1002916.0, 1003483.0, 1003519.0, 1004336.0, 1014120.0, 1024591.0, 2088313.0, 78.0, 242.0, 1000781.0, 1002909.0, 976.0, 1003424.0, 1169.0, 1789.0, 4567.0, 1017763.0, 1030084.0, 1035248.0, 1001207.0, 1005945.0, 1006412.0, 1057422.0, 1238128.0, 2617.0, 1000766.0, 1000768.0, 1001130.0, 1001858.0, 1003380.0, 1003382.0, 1003514.0, 1006379.0, 1006896.0, 1024629.0, 3197.0, 1000738.0, 1002794.0, 1004339.0, 1009243.0, 1001307.0, 1001348.0, 1001674.0, 1016674.0, 1018404.0, 1223.0, 1001653.0, 402.0, 719.0, 2712.0, 3314.0, 1003377.0, 1004386.0, 1042054.0, 1000623.0, 1001332.0, 1003926.0, 1004370.0, 1004394.0, 1414.0, 3033.0, 1000481.0, 1001065.0, 1001304.0, 1001807.0, 1003526.0, 1006846.0, 1023047.0, 3985.0, 1000127.0, 1000140.0, 1000251.0, 1002837.0, 1003520.0, 532.0, 1263.0, 3547.0, 1057426.0, 1262670.0, 1000840.0, 1000904.0, 1003414.0, 1006399.0, 1022140.0, 658.0, 1001345.0, 1004309.0, 1399.0, 1179251.0, 979.0, 1000323.0, 1000737.0, 1001478.0, 1003039.0, 1004082.0, 1004391.0, 1006410.0, 1026738.0, 3491.0, 1041895.0, 1275800.0, 2100785.0, 106.0, 600.0, 1501.0, 3150.0, 3292.0, 5734.0, 1000042.0, 1003422.0, 1025690.0, 1001249.0, 1004401.0, 1023113.0, 1027443.0, 10783758.0, 671.0, 2916.0, 5496.0, 1000744.0, 1023005.0, 1023463.0, 2951.0, 1000450.0, 1004373.0, 725.0, 1177.0, 4341.0, 1000302.0, 1001300.0, 1023177.0, 1042043.0, 1042071.0, 3379.0, 5452.0, 1001306.0, 1003632.0, 1064598.0, 619.0, 1224.0, 1039191.0, 668.0, 1000099.0, 1003433.0, 1003886.0, 1006381.0, 1023139.0, 999.0, 1779.0, 1000677.0, 1001007.0, 1003627.0, 1003631.0, 1004365.0, 1394.0, 1001757.0, 1001900.0, 1274.0, 1003376.0, 82.0, 3625.0, 1001292.0, 1001529.0, 1010160.0, 1022966.0, 1000382.0, 1004384.0, 1007756.0, 1235281.0, 648.0, 1000498.0, 1001293.0, 1002914.0, 776.0, 930.0, 4324.0, 1003640.0, 1251826.0, 1428.0, 1003384.0, 1004359.0, 553.0, 657.0, 4246.0, 1000730.0, 1001172.0, 1001230.0, 1004346.0, 3402.0, 1001276.0, 1006418.0, 1058631.0, 1001295.0, 1003472.0, 1004338.0, 1023040.0, 2600.0, 1000522.0, 1003619.0, 1000055.0, 1036431.0, 1070105.0, 1001347.0, 1003371.0, 1048830.0, 1330164.0, 1171.0, 2955.0, 1001363.0, 59.0, 202.0, 1000440.0, 1001320.0, 1003378.0, 1003419.0, 1000933.0, 1003416.0, 1023043.0, 1103890.0, 5626.0, 1001294.0, 1003381.0, 1007972.0, 1018.0, 2621.0, 3170.0, 3296.0, 1000751.0, 1003649.0, 1009786.0, 1036926.0, 28.0, 1001233.0, 1825.0, 5606.0, 1000518.0, 1001551.0, 1003643.0, 1003994.0, 1010683.0, 1001343.0, 1003493.0, 1010152.0, 1014463.0, 1023119.0, 1000931.0, 1002802.0, 3327.0, 1001180.0, 1002615.0, 1005915.0, 1022123.0, 1023147.0, 1244328.0, 1000009.0, 1000305.0, 1000630.0, 1001346.0, 1001358.0, 1024842.0, 1034374.0, 1462.0, 2085.0, 4221.0, 1001174.0, 1001273.0, 1001341.0, 1002214.0, 1003387.0, 1005377.0, 1099879.0, 6679691.0, 1002732.0, 1005375.0, 1007653.0, 1010005.0, 1277408.0, 1000724.0, 1002098.0, 1003655.0, 1006404.0, 1083682.0, 1234331.0, 3554.0, 1252914.0, 1003405.0, 1235491.0, 1004055.0, 860.0, 1854.0, 1003168.0, 1244561.0, 1293597.0, 1003391.0, 1007459.0, 1284681.0, 2077.0, 2860.0, 1010143.0, 1017329.0, 1000059.0, 1000188.0, 1000727.0, 1003365.0, 1003478.0, 1003654.0, 1284694.0, 357.0, 5668.0, 1007346.0, 1212442.0, 30.0, 1004349.0, 1021539.0, 1001920.0, 1200.0, 1001327.0, 407.0, 1330.0, 1003988.0, 1262.0, 3122.0, 1000985.0, 1003084.0, 1275996.0, 2088097.0, 1007652.0, 1000289.0, 1002801.0, 1004323.0, 1006304.0, 1001483.0, 1004371.0, 1005308.0, 1002382.0, 1003778.0, 1256162.0, 1305.0, 1327.0, 1000025.0, 1000434.0, 1001261.0, 1001281.0, 1004334.0, 1056788.0, 1317025.0, 1303.0, 1001528.0, 691.0, 3437.0, 1003527.0, 1003620.0, 1034635.0, 4569.0, 1003579.0, 1005749.0, 958.0, 1251.0, 1265.0, 1864.0, 5097.0, 1000157.0, 1001328.0, 1003617.0, 1194.0, 5153.0, 5687.0, 1000028.0, 228.0, 1441.0, 1000033.0, 1001313.0, 2884.0, 1003265.0, 1003369.0, 1076507.0, 5661.0, 1036094.0, 1520.0, 1000013.0, 1001223.0, 1001355.0, 360.0, 1403.0, 1000424.0, 1007430.0, 1022132.0, 1002178.0, 1004380.0, 1025118.0, 1245812.0, 723.0, 988.0, 1890.0, 2897.0, 1000343.0, 1003517.0, 3656.0, 1000457.0, 1183.0, 1000520.0, 1001329.0, 1003484.0, 1003522.0, 1008136.0, 715.0, 1001291.0, 1006332.0, 1003159.0, 1003389.0, 1000007.0, 1002556.0, 1003383.0, 1003394.0, 1003412.0, 1003489.0, 1003648.0, 1004628.0, 1004629.0, 6776788.0, 1204.0, 1000295.0, 1001353.0, 1003395.0, 1017414.0, 1045633.0, 1234328.0, 666.0, 2636.0, 1000503.0, 1022237.0, 1042077.0, 5453.0, 1003623.0, 1022979.0, 1000761.0, 1000981.0, 1006174.0, 1023125.0, 1235731.0, 313.0, 1805.0, 1003415.0, 1014481.0, 1022910.0, 1207868.0, 5409.0, 1001302.0, 1004395.0, 2883.0, 1000010.0, 1000340.0, 1000740.0, 1002439.0, 1003373.0, 1052993.0, 1410.0, 5705.0, 1001351.0, 1003637.0, 1005059.0, 6777891.0, 3123.0, 1000006.0, 1000054.0, 1004351.0, 1000113.0, 1001531.0, 1001989.0, 1003523.0, 1003673.0, 1009065.0, 1278093.0]\n"
          ],
          "name": "stdout"
        }
      ]
    },
    {
      "cell_type": "markdown",
      "metadata": {
        "id": "0K1WLHi1e0JU",
        "colab_type": "text"
      },
      "source": [
        "## Getting the list of artists not heard by the chosen user."
      ]
    },
    {
      "cell_type": "code",
      "metadata": {
        "id": "DKhRT20bNy57",
        "colab_type": "code",
        "outputId": "851b1e6e-6dcf-4e5e-feb4-086fad43c9a7",
        "colab": {
          "base_uri": "https://localhost:8080/",
          "height": 34
        }
      },
      "source": [
        "unlistened_artists = users.filter(users.ArtistId.isin(list(listened_artists_list))==False)\n",
        "unlistened_artists.count()"
      ],
      "execution_count": 0,
      "outputs": [
        {
          "output_type": "execute_result",
          "data": {
            "text/plain": [
              "20825470"
            ]
          },
          "metadata": {
            "tags": []
          },
          "execution_count": 34
        }
      ]
    },
    {
      "cell_type": "code",
      "metadata": {
        "id": "NuqT4kjhQQod",
        "colab_type": "code",
        "outputId": "14347451-8d92-47fb-eebf-d90ba5c8b431",
        "colab": {
          "base_uri": "https://localhost:8080/",
          "height": 204
        }
      },
      "source": [
        "unlistened_artists.show(5) # Just a sample."
      ],
      "execution_count": 0,
      "outputs": [
        {
          "output_type": "stream",
          "text": [
            "+---------+---------+-------+\n",
            "|   UserId| ArtistId|Counter|\n",
            "+---------+---------+-------+\n",
            "|1000019.0|1000036.0|    5.0|\n",
            "|1000019.0|1000069.0|    3.0|\n",
            "|1000019.0|1000071.0|    2.0|\n",
            "|1000019.0|1000076.0|   10.0|\n",
            "|1000019.0|1000080.0|    3.0|\n",
            "+---------+---------+-------+\n",
            "only showing top 5 rows\n",
            "\n"
          ],
          "name": "stdout"
        }
      ]
    },
    {
      "cell_type": "markdown",
      "metadata": {
        "id": "y6yFScgHe6VU",
        "colab_type": "text"
      },
      "source": [
        "## Merging the dataset with the Artists, in order to get the Artist Title from ID."
      ]
    },
    {
      "cell_type": "code",
      "metadata": {
        "id": "16phw9vG5AJh",
        "colab_type": "code",
        "outputId": "8ba703a5-ed88-4928-e0c9-f1ae9488efd3",
        "colab": {
          "base_uri": "https://localhost:8080/",
          "height": 289
        }
      },
      "source": [
        "# Merging the unlistened Artists and Totalling / Sorting by Counter to get total number of plays.\n",
        "\n",
        "unlistened_artists_list = unlistened_artists.join(artists, 'ArtistId').select('UserId', 'ArtistId', 'Title', 'Counter')\n",
        "grouped_unlistened_artists_list = unlistened_artists_list.groupBy(\"Title\").sum(\"Counter\")\n",
        "\n",
        "# Renaminig the total column for sorting.\n",
        "grouped_unlistened_artists_list = grouped_unlistened_artists_list.withColumnRenamed(\"sum(Counter)\", \"TotalPlays\")\n",
        "# Top 10 Artists not heard by UserId 1000002\n",
        "\n",
        "print(\"Top 10 Played Artists\")\n",
        "grouped_unlistened_artists_list.orderBy([\"TotalPlays\"], ascending=[0]).show(10)"
      ],
      "execution_count": 0,
      "outputs": [
        {
          "output_type": "stream",
          "text": [
            "+-------------------+----------+\n",
            "|              Title|TotalPlays|\n",
            "+-------------------+----------+\n",
            "|       Modest Mouse| 1328869.0|\n",
            "|        Bright Eyes| 1234387.0|\n",
            "|Death Cab for Cutie| 1117143.0|\n",
            "|      Elliott Smith| 1080412.0|\n",
            "|                 U2| 1015064.0|\n",
            "|          Nightwish| 1010807.0|\n",
            "|           Interpol|  979539.0|\n",
            "|Something Corporate|  921263.0|\n",
            "|               Beck|  906576.0|\n",
            "|           The Cure|  895458.0|\n",
            "+-------------------+----------+\n",
            "only showing top 10 rows\n",
            "\n"
          ],
          "name": "stdout"
        }
      ]
    },
    {
      "cell_type": "markdown",
      "metadata": {
        "id": "uJAEZOwdfPkO",
        "colab_type": "text"
      },
      "source": [
        "## Now to use the prediction portion\n",
        "\n",
        "Running the Unlistened Artists through the model to come up with the predictions based on the unlistened artists."
      ]
    },
    {
      "cell_type": "code",
      "metadata": {
        "id": "xPZUBPRnUHDB",
        "colab_type": "code",
        "outputId": "352eb17d-499a-4bc5-c922-859b650c6046",
        "colab": {
          "base_uri": "https://localhost:8080/",
          "height": 306
        }
      },
      "source": [
        "# Again filtering on the NaN ... but should not be necessary\n",
        "\n",
        "predicted_listens = my_model.transform(unlistened_artists)\n",
        "predicted_listens = predicted_listens.filter(predicted_listens['prediction'] != float('nan'))\n",
        "\n",
        "predictions = predicted_listens.join(artists, 'ArtistId') \\\n",
        "                 .select('ArtistId', 'Title', 'prediction') \\\n",
        "                 .distinct() \\\n",
        "                 .orderBy('prediction', ascending = False)\n",
        "\n",
        "grouped_predictions = predictions.groupBy(\"Title\").sum(\"prediction\")\n",
        "grouped_predictions = grouped_predictions.withColumnRenamed(\"sum(prediction)\", \"Prediction\")\n",
        "\n",
        "print('Top 10 Predicted Artists:')\n",
        "grouped_predictions = grouped_predictions.orderBy(\"Prediction\", ascending = False)\n",
        "grouped_predictions.show(10)"
      ],
      "execution_count": 0,
      "outputs": [
        {
          "output_type": "stream",
          "text": [
            "Top 10 Predicted Artists:\n",
            "+-------------------+------------------+\n",
            "|              Title|        Prediction|\n",
            "+-------------------+------------------+\n",
            "|        Bright Eyes|1087848.5356666297|\n",
            "|      Elliott Smith|1053005.4397909641|\n",
            "|Death Cab for Cutie| 921259.4432001486|\n",
            "|               Tool| 897752.3415871225|\n",
            "|           Interpol| 883973.1147891581|\n",
            "|       Modest Mouse|  868206.573631011|\n",
            "|    Jimmy Eat World| 847365.1839979813|\n",
            "|               Beck| 801374.5849915743|\n",
            "|Something Corporate| 750667.3168459535|\n",
            "|          The Shins| 738299.7268771473|\n",
            "+-------------------+------------------+\n",
            "only showing top 10 rows\n",
            "\n"
          ],
          "name": "stdout"
        }
      ]
    },
    {
      "cell_type": "markdown",
      "metadata": {
        "id": "dYhsbRRWf2e2",
        "colab_type": "text"
      },
      "source": [
        "Proposed predictions for the chosen user\n"
      ]
    }
  ]
}